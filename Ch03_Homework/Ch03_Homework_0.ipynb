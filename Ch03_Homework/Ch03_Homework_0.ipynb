{
 "cells": [
  {
   "cell_type": "code",
   "execution_count": 1,
   "id": "5805d211-f992-429f-9a91-7a83b9f56f91",
   "metadata": {},
   "outputs": [
    {
     "name": "stdout",
     "output_type": "stream",
     "text": [
      "x= [[0.2       ]\n",
      " [1.26666667]\n",
      " [0.66666667]]\n",
      "A@x= [[1.]\n",
      " [7.]\n",
      " [5.]]\n"
     ]
    }
   ],
   "source": [
    "import numpy as np\n",
    "A= [[1,-2, 5],\n",
    "    [2, 1, 8],\n",
    "    [3, 4,-1]]\n",
    "\n",
    "A= np.array(A)\n",
    "\n",
    "b= [1,7,5]\n",
    "\n",
    "b= np.array(b)\n",
    "\n",
    "b= b.reshape(3,1)\n",
    "\n",
    "x= np.linalg.solve(A, b)\n",
    "print(\"x=\",x)\n",
    "print(\"A@x=\", A@x)"
   ]
  },
  {
   "cell_type": "code",
   "execution_count": 4,
   "id": "f777c18b-bb0e-4dc0-81e8-1e53d026c5d6",
   "metadata": {},
   "outputs": [
    {
     "name": "stdout",
     "output_type": "stream",
     "text": [
      "x= [[-0.67075038]\n",
      " [ 1.65828046]\n",
      " [ 0.54692627]\n",
      " [-0.02351783]\n",
      " [ 0.21975498]]\n",
      "A@x= [[1.]\n",
      " [7.]\n",
      " [5.]\n",
      " [4.]\n",
      " [8.]]\n"
     ]
    }
   ],
   "source": [
    "A2= [[1,-2, 5,  7, 11],\n",
    "     [2, 1, 8, 14, 12],\n",
    "     [3, 4,-1, -2,  4],\n",
    "     [5, 6,-7, 13,  7],\n",
    "     [7, 5, 6, -1,  5]]\n",
    "\n",
    "A2= np.array(A2)\n",
    "\n",
    "b2= [1,7,5,4,8]\n",
    "\n",
    "b2= np.array(b2)\n",
    "\n",
    "b2= b2.reshape(5,1)\n",
    "\n",
    "x2= np.linalg.solve(A2, b2)\n",
    "print(\"x=\",x2)\n",
    "print(\"A@x=\", A2@x2)"
   ]
  },
  {
   "cell_type": "code",
   "execution_count": 6,
   "id": "ee9eaded-a372-4764-9ef5-99c427540752",
   "metadata": {},
   "outputs": [
    {
     "name": "stdout",
     "output_type": "stream",
     "text": [
      "x= [[-1.97711378]\n",
      " [-0.59812878]\n",
      " [ 0.71380913]\n",
      " [-3.07536201]\n",
      " [ 3.66228101]\n",
      " [-2.98515922]\n",
      " [ 0.68768724]\n",
      " [-0.3891665 ]\n",
      " [11.72654004]\n",
      " [-5.1360552 ]]\n",
      "A@x= [[ 1.]\n",
      " [ 7.]\n",
      " [ 5.]\n",
      " [ 4.]\n",
      " [ 8.]\n",
      " [10.]\n",
      " [23.]\n",
      " [65.]\n",
      " [41.]\n",
      " [19.]]\n"
     ]
    }
   ],
   "source": [
    "A3= [[ 1, -2, 5,  7, 11, 2, 12, 36, 1, 4],\n",
    "     [ 2,  1, 8, 14, 12, 3, 45, 55, 3, 6],\n",
    "     [ 3,  4,-1, -2,  4, 5, 58, 23, 2, 9],\n",
    "     [ 4,  6,-7, 13,  7, 4, 61, 12, 3, 5],\n",
    "     [ 5,  5, 6, -1,  5, 8, 15, 32, 4, 5],\n",
    "     [ 6,  3,-7, 23, 17, 9, 68, 14, 5, 7],\n",
    "     [ 7, 15, 9, 21, 22, 7, 58, 96, 4, 1],\n",
    "     [ 8, 23,-5, 15, 31, 7, 11, 13, 2,-5],\n",
    "     [ 9, 26, 4, 24, 25,-1, 30, 11, 6, 7],\n",
    "     [10, 17,-3, 19, 28, 5, 12, 78, 2,-4]]\n",
    "\n",
    "A3= np.array(A3)\n",
    "\n",
    "b3= [1,7,5,4,8,10,23,65,41,19]\n",
    "\n",
    "b3= np.array(b3)\n",
    "\n",
    "b3= b3.reshape(10,1)\n",
    "\n",
    "x3= np.linalg.solve(A3, b3)\n",
    "print(\"x=\",x3)\n",
    "print(\"A@x=\", A3@x3)"
   ]
  },
  {
   "cell_type": "code",
   "execution_count": null,
   "id": "4bedfb47-030f-4797-8287-c6e82e528c09",
   "metadata": {},
   "outputs": [],
   "source": []
  }
 ],
 "metadata": {
  "kernelspec": {
   "display_name": "Python 3",
   "language": "python",
   "name": "python3"
  },
  "language_info": {
   "codemirror_mode": {
    "name": "ipython",
    "version": 3
   },
   "file_extension": ".py",
   "mimetype": "text/x-python",
   "name": "python",
   "nbconvert_exporter": "python",
   "pygments_lexer": "ipython3",
   "version": "3.8.8"
  }
 },
 "nbformat": 4,
 "nbformat_minor": 5
}
