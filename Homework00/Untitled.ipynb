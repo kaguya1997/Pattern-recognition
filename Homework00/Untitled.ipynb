{
 "cells": [
  {
   "cell_type": "code",
   "execution_count": 2,
   "id": "eff6e1e9-5ded-486c-8aa4-fb995b743b58",
   "metadata": {},
   "outputs": [],
   "source": [
    "import numpy as np\n",
    "import sympy as sm"
   ]
  },
  {
   "cell_type": "code",
   "execution_count": 3,
   "id": "d769b9b1-3ff3-4fa5-ac97-7ac0df1e2ae7",
   "metadata": {},
   "outputs": [],
   "source": [
    "x= sm.symbols('x')\n",
    "def f(x):\n",
    "    y= x**4 + 4*x**3 - 79*x**2 - 226*x + 720\n",
    "    return y"
   ]
  },
  {
   "cell_type": "code",
   "execution_count": 12,
   "id": "fe6a3ca7-4541-40e8-b590-6c42cb9cecfa",
   "metadata": {},
   "outputs": [
    {
     "data": {
      "text/latex": [
       "$\\displaystyle 4 x^{3} + 12 x^{2} - 158 x - 226$"
      ],
      "text/plain": [
       "4*x**3 + 12*x**2 - 158*x - 226"
      ]
     },
     "execution_count": 12,
     "metadata": {},
     "output_type": "execute_result"
    }
   ],
   "source": [
    "df = f(x).diff(x)\n",
    "df"
   ]
  },
  {
   "cell_type": "code",
   "execution_count": 6,
   "id": "32edbe02-9c6a-46d1-99ad-d46a923871f1",
   "metadata": {},
   "outputs": [],
   "source": [
    "ddf = f(x).diff(x,2)"
   ]
  },
  {
   "cell_type": "code",
   "execution_count": 13,
   "id": "e29529c1-513e-4fc7-8ebc-9cc71934a297",
   "metadata": {},
   "outputs": [],
   "source": [
    "dRoots = sm.solve(df, x)"
   ]
  },
  {
   "cell_type": "code",
   "execution_count": 17,
   "id": "e49dd347-26bb-4503-9e00-62d198ca481a",
   "metadata": {},
   "outputs": [
    {
     "data": {
      "text/latex": [
       "$\\displaystyle -1 + \\left(- \\frac{1}{2} - \\frac{\\sqrt{3} i}{2}\\right) \\sqrt[3]{\\frac{15}{2} + \\frac{55 \\sqrt{1194} i}{36}} + \\frac{85}{6 \\left(- \\frac{1}{2} - \\frac{\\sqrt{3} i}{2}\\right) \\sqrt[3]{\\frac{15}{2} + \\frac{55 \\sqrt{1194} i}{36}}}$"
      ],
      "text/plain": [
       "-1 + (-1/2 - sqrt(3)*I/2)*(15/2 + 55*sqrt(1194)*I/36)**(1/3) + 85/(6*(-1/2 - sqrt(3)*I/2)*(15/2 + 55*sqrt(1194)*I/36)**(1/3))"
      ]
     },
     "execution_count": 17,
     "metadata": {},
     "output_type": "execute_result"
    }
   ],
   "source": [
    "dRoots[0]"
   ]
  },
  {
   "cell_type": "code",
   "execution_count": 18,
   "id": "6d4b15f7-6fca-4dd2-a9a9-84ca4325ef4c",
   "metadata": {},
   "outputs": [
    {
     "data": {
      "text/latex": [
       "$\\displaystyle -1 + \\frac{85}{6 \\left(- \\frac{1}{2} + \\frac{\\sqrt{3} i}{2}\\right) \\sqrt[3]{\\frac{15}{2} + \\frac{55 \\sqrt{1194} i}{36}}} + \\left(- \\frac{1}{2} + \\frac{\\sqrt{3} i}{2}\\right) \\sqrt[3]{\\frac{15}{2} + \\frac{55 \\sqrt{1194} i}{36}}$"
      ],
      "text/plain": [
       "-1 + 85/(6*(-1/2 + sqrt(3)*I/2)*(15/2 + 55*sqrt(1194)*I/36)**(1/3)) + (-1/2 + sqrt(3)*I/2)*(15/2 + 55*sqrt(1194)*I/36)**(1/3)"
      ]
     },
     "execution_count": 18,
     "metadata": {},
     "output_type": "execute_result"
    }
   ],
   "source": [
    "dRoots[1]"
   ]
  },
  {
   "cell_type": "code",
   "execution_count": 19,
   "id": "84211d54-cb2e-4064-8eed-c26195be4441",
   "metadata": {},
   "outputs": [
    {
     "data": {
      "text/latex": [
       "$\\displaystyle -1 + \\frac{85}{6 \\sqrt[3]{\\frac{15}{2} + \\frac{55 \\sqrt{1194} i}{36}}} + \\sqrt[3]{\\frac{15}{2} + \\frac{55 \\sqrt{1194} i}{36}}$"
      ],
      "text/plain": [
       "-1 + 85/(6*(15/2 + 55*sqrt(1194)*I/36)**(1/3)) + (15/2 + 55*sqrt(1194)*I/36)**(1/3)"
      ]
     },
     "execution_count": 19,
     "metadata": {},
     "output_type": "execute_result"
    }
   ],
   "source": [
    "dRoots[2]"
   ]
  },
  {
   "cell_type": "code",
   "execution_count": 23,
   "id": "554203c6-1fab-43c2-bdca-e670cd188075",
   "metadata": {},
   "outputs": [
    {
     "data": {
      "text/latex": [
       "$\\displaystyle 946 - 226 \\sqrt[3]{\\frac{15}{2} + \\frac{55 \\sqrt{1194} i}{36}} + 4 \\left(-1 + \\frac{85}{6 \\sqrt[3]{\\frac{15}{2} + \\frac{55 \\sqrt{1194} i}{36}}} + \\sqrt[3]{\\frac{15}{2} + \\frac{55 \\sqrt{1194} i}{36}}\\right)^{3} + \\left(-1 + \\frac{85}{6 \\sqrt[3]{\\frac{15}{2} + \\frac{55 \\sqrt{1194} i}{36}}} + \\sqrt[3]{\\frac{15}{2} + \\frac{55 \\sqrt{1194} i}{36}}\\right)^{4} - 79 \\left(-1 + \\frac{85}{6 \\sqrt[3]{\\frac{15}{2} + \\frac{55 \\sqrt{1194} i}{36}}} + \\sqrt[3]{\\frac{15}{2} + \\frac{55 \\sqrt{1194} i}{36}}\\right)^{2} - \\frac{9605}{3 \\sqrt[3]{\\frac{15}{2} + \\frac{55 \\sqrt{1194} i}{36}}}$"
      ],
      "text/plain": [
       "946 - 226*(15/2 + 55*sqrt(1194)*I/36)**(1/3) + 4*(-1 + 85/(6*(15/2 + 55*sqrt(1194)*I/36)**(1/3)) + (15/2 + 55*sqrt(1194)*I/36)**(1/3))**3 + (-1 + 85/(6*(15/2 + 55*sqrt(1194)*I/36)**(1/3)) + (15/2 + 55*sqrt(1194)*I/36)**(1/3))**4 - 79*(-1 + 85/(6*(15/2 + 55*sqrt(1194)*I/36)**(1/3)) + (15/2 + 55*sqrt(1194)*I/36)**(1/3))**2 - 9605/(3*(15/2 + 55*sqrt(1194)*I/36)**(1/3))"
      ]
     },
     "execution_count": 23,
     "metadata": {},
     "output_type": "execute_result"
    }
   ],
   "source": [
    "f(dRoots[2])"
   ]
  },
  {
   "cell_type": "code",
   "execution_count": null,
   "id": "12f373ec-6b11-4e65-89da-5c0f67b86ee8",
   "metadata": {},
   "outputs": [],
   "source": []
  }
 ],
 "metadata": {
  "kernelspec": {
   "display_name": "Python 3",
   "language": "python",
   "name": "python3"
  },
  "language_info": {
   "codemirror_mode": {
    "name": "ipython",
    "version": 3
   },
   "file_extension": ".py",
   "mimetype": "text/x-python",
   "name": "python",
   "nbconvert_exporter": "python",
   "pygments_lexer": "ipython3",
   "version": "3.8.8"
  }
 },
 "nbformat": 4,
 "nbformat_minor": 5
}
